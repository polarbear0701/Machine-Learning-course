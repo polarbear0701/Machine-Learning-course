{
 "cells": [
  {
   "cell_type": "code",
   "execution_count": 1,
   "id": "24d9f542-cefa-46e8-84c2-eb98bdf37e72",
   "metadata": {},
   "outputs": [
    {
     "name": "stdout",
     "output_type": "stream",
     "text": [
      "Hello world\n"
     ]
    }
   ],
   "source": [
    "print('Hello world')"
   ]
  },
  {
   "cell_type": "code",
   "execution_count": 2,
   "id": "0dec38fe-d30b-4fe4-a253-4199c97317eb",
   "metadata": {},
   "outputs": [
    {
     "data": {
      "text/plain": [
       "2"
      ]
     },
     "execution_count": 2,
     "metadata": {},
     "output_type": "execute_result"
    }
   ],
   "source": [
    "1+1"
   ]
  },
  {
   "cell_type": "code",
   "execution_count": 3,
   "id": "d498b232-c9df-49bf-8173-a8705d0603e9",
   "metadata": {},
   "outputs": [],
   "source": [
    "a = 8"
   ]
  },
  {
   "cell_type": "code",
   "execution_count": 4,
   "id": "0a2c909a-16a1-4f50-a295-5ed7a0efc5f7",
   "metadata": {},
   "outputs": [],
   "source": [
    "b = 9"
   ]
  },
  {
   "cell_type": "code",
   "execution_count": 13,
   "id": "42e44eec-3d73-494b-8228-085bb8769778",
   "metadata": {},
   "outputs": [
    {
     "data": {
      "text/plain": [
       "17"
      ]
     },
     "execution_count": 13,
     "metadata": {},
     "output_type": "execute_result"
    }
   ],
   "source": [
    "a+b"
   ]
  },
  {
   "cell_type": "code",
   "execution_count": 17,
   "id": "acb592c8-7325-4c2d-b24e-7706b97bf4ff",
   "metadata": {},
   "outputs": [
    {
     "name": "stdout",
     "output_type": "stream",
     "text": [
      "b\n"
     ]
    }
   ],
   "source": [
    "if a > b:\n",
    "    print('a')\n",
    "else:\n",
    "    print('b')"
   ]
  },
  {
   "cell_type": "code",
   "execution_count": 18,
   "id": "d103f71a-db5b-418b-98bc-a7871d518b33",
   "metadata": {},
   "outputs": [],
   "source": [
    "def sum(a):\n",
    "    if a == 0:\n",
    "        return 0\n",
    "    return a + sum(a-1)"
   ]
  },
  {
   "cell_type": "code",
   "execution_count": 19,
   "id": "9b414876-291a-4780-9f08-ccfafb1500ad",
   "metadata": {},
   "outputs": [
    {
     "data": {
      "text/plain": [
       "36"
      ]
     },
     "execution_count": 19,
     "metadata": {},
     "output_type": "execute_result"
    }
   ],
   "source": [
    "sum(a)"
   ]
  },
  {
   "cell_type": "code",
   "execution_count": 16,
   "id": "4b0beaf4-8410-495b-a8cc-18a7d56de950",
   "metadata": {},
   "outputs": [
    {
     "data": {
      "text/plain": [
       "36"
      ]
     },
     "execution_count": 16,
     "metadata": {},
     "output_type": "execute_result"
    }
   ],
   "source": [
    "sum(a)"
   ]
  },
  {
   "cell_type": "code",
   "execution_count": 11,
   "id": "ac2ba875-ef56-4343-ae2e-2d6d326e5f9f",
   "metadata": {},
   "outputs": [],
   "source": [
    "def sum(a):\n",
    "    if a == 0:\n",
    "        return 0\n",
    "    return a + sum(a-1)"
   ]
  },
  {
   "cell_type": "code",
   "execution_count": 12,
   "id": "b7205588-8b28-425f-af5e-53b271b23c4c",
   "metadata": {},
   "outputs": [
    {
     "data": {
      "text/plain": [
       "36"
      ]
     },
     "execution_count": 12,
     "metadata": {},
     "output_type": "execute_result"
    }
   ],
   "source": [
    "sum(a)"
   ]
  },
  {
   "cell_type": "code",
   "execution_count": 20,
   "id": "c0399db1-0ea3-44cd-ac22-18d3b1d225f7",
   "metadata": {},
   "outputs": [],
   "source": [
    "array = []"
   ]
  },
  {
   "cell_type": "code",
   "execution_count": 21,
   "id": "abc942e4-dd21-4176-9d9a-abb834299b34",
   "metadata": {},
   "outputs": [],
   "source": [
    "for i in range(11):\n",
    "    array.append(i)"
   ]
  },
  {
   "cell_type": "code",
   "execution_count": 22,
   "id": "e7ae4ae4-3dc1-4a58-a4a1-79f36fb496b0",
   "metadata": {},
   "outputs": [
    {
     "name": "stdout",
     "output_type": "stream",
     "text": [
      "[0, 1, 2, 3, 4, 5, 6, 7, 8, 9, 10]\n"
     ]
    }
   ],
   "source": [
    "print(array)"
   ]
  },
  {
   "cell_type": "code",
   "execution_count": 24,
   "id": "99d9bbc5-d9ab-40aa-871c-1fc8c8119ae9",
   "metadata": {},
   "outputs": [
    {
     "name": "stdout",
     "output_type": "stream",
     "text": [
      "0\n",
      "1\n",
      "2\n",
      "3\n",
      "4\n",
      "5\n",
      "6\n",
      "7\n",
      "8\n",
      "9\n"
     ]
    }
   ],
   "source": [
    "j = 0\n",
    "a = 10\n",
    "while j < a:\n",
    "    print(j)\n",
    "    j += 1"
   ]
  },
  {
   "cell_type": "code",
   "execution_count": 25,
   "id": "dc262f13-2916-4b23-a3f9-04c466d4a68a",
   "metadata": {},
   "outputs": [],
   "source": [
    "def isEven(a):\n",
    "    if a % 2 == 0:\n",
    "        return True\n",
    "    return False"
   ]
  },
  {
   "cell_type": "code",
   "execution_count": 26,
   "id": "80cee632-0abc-4f9b-94c5-12b9c967cc6d",
   "metadata": {},
   "outputs": [
    {
     "data": {
      "text/plain": [
       "True"
      ]
     },
     "execution_count": 26,
     "metadata": {},
     "output_type": "execute_result"
    }
   ],
   "source": [
    "isEven(20)"
   ]
  },
  {
   "cell_type": "code",
   "execution_count": 33,
   "id": "3528f927-cc1c-4518-91e2-d536777bc214",
   "metadata": {},
   "outputs": [],
   "source": [
    "def GCD(a,b):\n",
    "    if a == 0:\n",
    "        return b\n",
    "    return GCD(b%a, a)"
   ]
  },
  {
   "cell_type": "code",
   "execution_count": 34,
   "id": "fddfcdc1-ee60-40fd-94a8-fe139b788656",
   "metadata": {},
   "outputs": [
    {
     "data": {
      "text/plain": [
       "4"
      ]
     },
     "execution_count": 34,
     "metadata": {},
     "output_type": "execute_result"
    }
   ],
   "source": [
    "GCD(20, 12)"
   ]
  },
  {
   "cell_type": "code",
   "execution_count": 35,
   "id": "5f4874cb-c07d-4f11-8306-9cd9fc7fe1a8",
   "metadata": {},
   "outputs": [
    {
     "data": {
      "text/plain": [
       "7"
      ]
     },
     "execution_count": 35,
     "metadata": {},
     "output_type": "execute_result"
    }
   ],
   "source": [
    "GCD(12341, 1623412)"
   ]
  },
  {
   "cell_type": "code",
   "execution_count": 38,
   "id": "e4da5fed-60ea-4d15-a0b6-e31a34b650c8",
   "metadata": {},
   "outputs": [],
   "source": [
    "def gcd(a,b):\n",
    "    while b != 0:\n",
    "        R = a % b\n",
    "        a, b = b, R\n",
    "    return a"
   ]
  },
  {
   "cell_type": "code",
   "execution_count": 39,
   "id": "0b7e3c33-1acd-4913-91c9-75c5a8acabe3",
   "metadata": {},
   "outputs": [
    {
     "data": {
      "text/plain": [
       "4"
      ]
     },
     "execution_count": 39,
     "metadata": {},
     "output_type": "execute_result"
    }
   ],
   "source": [
    "gcd(20, 12)"
   ]
  },
  {
   "cell_type": "code",
   "execution_count": 56,
   "id": "9b4b1c82-25ad-422c-ba69-bc3ea1bba895",
   "metadata": {},
   "outputs": [],
   "source": [
    "def gcd3(a,b):\n",
    "    value = 1\n",
    "    if a == 0 or b == 0:\n",
    "        return -1\n",
    "    if a > b:\n",
    "        a,b = b,a\n",
    "    for j in range (1,a+1):\n",
    "        if a % j == 0 and b % j == 0:\n",
    "            value = j\n",
    "    return value\n",
    "\n",
    "    "
   ]
  },
  {
   "cell_type": "code",
   "execution_count": 57,
   "id": "00b066a3-3003-4d43-b719-dccd2d8c1a16",
   "metadata": {},
   "outputs": [
    {
     "data": {
      "text/plain": [
       "4"
      ]
     },
     "execution_count": 57,
     "metadata": {},
     "output_type": "execute_result"
    }
   ],
   "source": [
    "gcd3(20, 12)"
   ]
  },
  {
   "cell_type": "code",
   "execution_count": 58,
   "id": "687e2667-ecdd-42d0-b226-dcc9e1a2d275",
   "metadata": {},
   "outputs": [
    {
     "data": {
      "text/plain": [
       "9"
      ]
     },
     "execution_count": 58,
     "metadata": {},
     "output_type": "execute_result"
    }
   ],
   "source": [
    "gcd3(27, 9)"
   ]
  },
  {
   "cell_type": "code",
   "execution_count": 59,
   "id": "82b375fd-6acf-4886-b299-7b0ee9783ecf",
   "metadata": {},
   "outputs": [
    {
     "data": {
      "text/plain": [
       "-1"
      ]
     },
     "execution_count": 59,
     "metadata": {},
     "output_type": "execute_result"
    }
   ],
   "source": [
    "gcd3(27,0)"
   ]
  },
  {
   "cell_type": "code",
   "execution_count": 63,
   "id": "b51af89c-861e-4f89-b0d5-db82c0d8e031",
   "metadata": {},
   "outputs": [],
   "source": [
    "def favoriteFruit(array):\n",
    "    temp = ''\n",
    "    for i in array:\n",
    "        if len(i) > len(temp):\n",
    "            temp = i\n",
    "    return temp"
   ]
  },
  {
   "cell_type": "code",
   "execution_count": 64,
   "id": "8bd5e3f5-4d51-4b99-9ab3-2180222a6765",
   "metadata": {},
   "outputs": [
    {
     "data": {
      "text/plain": [
       "5"
      ]
     },
     "execution_count": 64,
     "metadata": {},
     "output_type": "execute_result"
    }
   ],
   "source": [
    "gcd3(10, 5)"
   ]
  },
  {
   "cell_type": "code",
   "execution_count": 65,
   "id": "27e65dc3-be16-4817-b184-1d6396384c0f",
   "metadata": {},
   "outputs": [
    {
     "data": {
      "text/plain": [
       "'chom chom'"
      ]
     },
     "execution_count": 65,
     "metadata": {},
     "output_type": "execute_result"
    }
   ],
   "source": [
    "favoriteFruit(['banana', 'kiwi', 'chom chom'])"
   ]
  },
  {
   "cell_type": "code",
   "execution_count": null,
   "id": "ceb1814a-cfcd-4f61-ab79-5657e1f0ee24",
   "metadata": {},
   "outputs": [],
   "source": []
  }
 ],
 "metadata": {
  "kernelspec": {
   "display_name": "Python 3 (ipykernel)",
   "language": "python",
   "name": "python3"
  },
  "language_info": {
   "codemirror_mode": {
    "name": "ipython",
    "version": 3
   },
   "file_extension": ".py",
   "mimetype": "text/x-python",
   "name": "python",
   "nbconvert_exporter": "python",
   "pygments_lexer": "ipython3",
   "version": "3.11.7"
  }
 },
 "nbformat": 4,
 "nbformat_minor": 5
}
